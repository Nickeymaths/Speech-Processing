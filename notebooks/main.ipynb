{
 "cells": [
  {
   "cell_type": "code",
   "execution_count": 1,
   "metadata": {
    "collapsed": false,
    "jupyter": {
     "outputs_hidden": false
    },
    "pycharm": {
     "name": "#%%\n"
    }
   },
   "outputs": [],
   "source": [
    "import dataset\n",
    "import dtw_recognition\n",
    "import numpy as np"
   ]
  },
  {
   "cell_type": "code",
   "execution_count": null,
   "outputs": [],
   "source": [],
   "metadata": {
    "collapsed": false,
    "pycharm": {
     "name": "#%%\n"
    }
   }
  },
  {
   "cell_type": "markdown",
   "source": [
    "# DTW"
   ],
   "metadata": {
    "collapsed": false
   }
  },
  {
   "cell_type": "code",
   "execution_count": 2,
   "metadata": {
    "collapsed": false,
    "jupyter": {
     "outputs_hidden": false
    },
    "pycharm": {
     "name": "#%%\n"
    }
   },
   "outputs": [],
   "source": [
    "config = {\n",
    "    \"data_dir\": \"../data/05/19021396_PhamThanhVinh\",\n",
    "    \"sr\": 22050,\n",
    "    \"n_mfcc\": 13,\n",
    "    \"hop_length\": 256,\n",
    "    \"n_fft\": 512,\n",
    "    \"delta_width\": 5,\n",
    "    \"n_sample_per_word\": 3,\n",
    "}\n",
    "df = dataset.get_dataset_df(config[\"data_dir\"], config[\"sr\"], config[\"n_mfcc\"], config[\"hop_length\"], config[\"n_fft\"],\n",
    "                   config[\"delta_width\"])\n",
    "template_df = dataset.get_template_df(df, config[\"n_sample_per_word\"])"
   ]
  },
  {
   "cell_type": "code",
   "execution_count": 3,
   "metadata": {
    "collapsed": false,
    "jupyter": {
     "outputs_hidden": false
    },
    "pycharm": {
     "name": "#%%\n"
    }
   },
   "outputs": [
    {
     "data": {
      "text/plain": "     label                                      mfcc_features\n0      sil  [[0.0, 0.36298612, 1.0, 0.67046523, 1.0, 0.109...\n1        1  [[0.0, 0.075219214, 0.5102628, 0.37972867, 0.6...\n2     tram  [[0.29391974, 0.69984466, 0.7457707, 0.3506259...\n3        4  [[0.9442609, 0.0, 0.50626904, 0.52150154, 0.72...\n4     muoi  [[1.0, 0.54144883, 0.37757295, 0.39642286, 0.0...\n...    ...                                                ...\n1975  tram  [[0.26855448, 0.39782253, 0.06277703, 0.511701...\n1976     8  [[0.006426136, 0.03151538, 1.0, 0.63716173, 0....\n1977  muoi  [[1.0, 0.16773497, 1.0, 0.20140655, 0.2975387,...\n1978    tu  [[0.3128125, 0.8595457, 0.54761374, 0.0, 0.365...\n1979   sil  [[0.5499364, 1.0, 1.0, 0.369127, 0.7081582, 0....\n\n[1980 rows x 2 columns]",
      "text/html": "<div>\n<style scoped>\n    .dataframe tbody tr th:only-of-type {\n        vertical-align: middle;\n    }\n\n    .dataframe tbody tr th {\n        vertical-align: top;\n    }\n\n    .dataframe thead th {\n        text-align: right;\n    }\n</style>\n<table border=\"1\" class=\"dataframe\">\n  <thead>\n    <tr style=\"text-align: right;\">\n      <th></th>\n      <th>label</th>\n      <th>mfcc_features</th>\n    </tr>\n  </thead>\n  <tbody>\n    <tr>\n      <th>0</th>\n      <td>sil</td>\n      <td>[[0.0, 0.36298612, 1.0, 0.67046523, 1.0, 0.109...</td>\n    </tr>\n    <tr>\n      <th>1</th>\n      <td>1</td>\n      <td>[[0.0, 0.075219214, 0.5102628, 0.37972867, 0.6...</td>\n    </tr>\n    <tr>\n      <th>2</th>\n      <td>tram</td>\n      <td>[[0.29391974, 0.69984466, 0.7457707, 0.3506259...</td>\n    </tr>\n    <tr>\n      <th>3</th>\n      <td>4</td>\n      <td>[[0.9442609, 0.0, 0.50626904, 0.52150154, 0.72...</td>\n    </tr>\n    <tr>\n      <th>4</th>\n      <td>muoi</td>\n      <td>[[1.0, 0.54144883, 0.37757295, 0.39642286, 0.0...</td>\n    </tr>\n    <tr>\n      <th>...</th>\n      <td>...</td>\n      <td>...</td>\n    </tr>\n    <tr>\n      <th>1975</th>\n      <td>tram</td>\n      <td>[[0.26855448, 0.39782253, 0.06277703, 0.511701...</td>\n    </tr>\n    <tr>\n      <th>1976</th>\n      <td>8</td>\n      <td>[[0.006426136, 0.03151538, 1.0, 0.63716173, 0....</td>\n    </tr>\n    <tr>\n      <th>1977</th>\n      <td>muoi</td>\n      <td>[[1.0, 0.16773497, 1.0, 0.20140655, 0.2975387,...</td>\n    </tr>\n    <tr>\n      <th>1978</th>\n      <td>tu</td>\n      <td>[[0.3128125, 0.8595457, 0.54761374, 0.0, 0.365...</td>\n    </tr>\n    <tr>\n      <th>1979</th>\n      <td>sil</td>\n      <td>[[0.5499364, 1.0, 1.0, 0.369127, 0.7081582, 0....</td>\n    </tr>\n  </tbody>\n</table>\n<p>1980 rows × 2 columns</p>\n</div>"
     },
     "execution_count": 3,
     "metadata": {},
     "output_type": "execute_result"
    }
   ],
   "source": [
    "df"
   ]
  },
  {
   "cell_type": "code",
   "execution_count": 4,
   "metadata": {
    "collapsed": false,
    "jupyter": {
     "outputs_hidden": false
    },
    "pycharm": {
     "name": "#%%\n"
    }
   },
   "outputs": [],
   "source": [
    "# avg = {}\n",
    "# min = {}\n",
    "# max = {}\n",
    "#\n",
    "# syllables = pd.DataFrame(columns=[\"label\", \"n_syllables\"])\n",
    "# syllables[\"label\"] = df[\"label\"].unique()\n",
    "# syllable_list = []\n",
    "#\n",
    "# for label in df[\"label\"].unique():\n",
    "#     dfi = df[df[\"label\"] == label]\n",
    "#     avg_i = 0\n",
    "#     min_i = np.inf\n",
    "#     max_i = 0\n",
    "#     for i in range(len(dfi)):\n",
    "#         a = dfi[\"mfcc_features\"].iloc[i].shape[0]\n",
    "#         avg_i += a\n",
    "#         if a < min_i:\n",
    "#             min_i = a\n",
    "#         if a > max_i:\n",
    "#             max_i = a\n",
    "#     avg[label] = int(avg_i/len(dfi))\n",
    "#     min[label] = min_i\n",
    "#     max[label] = max_i\n",
    "#\n",
    "# rate = 0.6\n",
    "# for i in range(len(syllables)):\n",
    "#     s_i = int(min[syllables[\"label\"].iloc[i]]*rate)\n",
    "#     if s_i >= 6:\n",
    "#         s_i -= 3\n",
    "#     syllable_list.append(s_i)\n",
    "# syllables[\"n_syllables\"] = syllable_list\n",
    "#\n",
    "# syllables.to_csv(\"../data/syllables.csv\", sep=\"\\t\", header=None, index=False)"
   ]
  },
  {
   "cell_type": "code",
   "execution_count": 5,
   "metadata": {
    "collapsed": false,
    "jupyter": {
     "outputs_hidden": false
    },
    "pycharm": {
     "name": "#%%\n"
    }
   },
   "outputs": [
    {
     "data": {
      "text/plain": "    label                                      mfcc_features\n0     sil  [[1.0, 0.25591674, 1.0, 0.0, 0.5374895, 0.0, 0...\n1     sil  [[1.0, 0.005836276, 1.0, 0.0, 0.18818209, 0.26...\n2     sil  [[1.0, 0.0, 1.0, 0.0, 0.14333844, 0.0, 1.0, 0....\n3       1  [[0.008115292, 0.13720374, 0.6464415, 0.0, 0.0...\n4       1  [[0.08613336, 0.04695834, 0.72694945, 0.607525...\n5       1  [[0.0, 0.0, 0.0, 0.5741292, 1.0, 0.92259985, 0...\n6    tram  [[0.092639014, 0.56376374, 1.0, 0.6377285, 0.7...\n7    tram  [[0.5384278, 0.25761774, 0.8564208, 0.7418925,...\n8    tram  [[0.0, 0.31076217, 0.4893239, 0.58495325, 0.48...\n9       4  [[0.0, 0.0, 0.29382217, 0.48106688, 0.50523496...\n10      4  [[0.9442609, 0.0, 0.50626904, 0.52150154, 0.72...\n11      4  [[0.6265214, 0.0, 0.11373757, 0.4505542, 0.366...\n12   muoi  [[1.0, 0.0, 0.69628984, 0.37176186, 0.44515076...\n13   muoi  [[0.86653006, 0.8513338, 0.56261456, 0.3777704...\n14   muoi  [[0.7261596, 0.27824205, 1.0, 0.47750998, 0.47...\n15      9  [[0.05142634, 0.6130245, 0.3723377, 0.24647449...\n16      9  [[0.20028724, 0.71292347, 0.45115966, 0.385882...\n17      9  [[0.11002314, 0.40280265, 1.0, 0.0, 0.50503945...\n18  trieu  [[0.32217762, 0.6055103, 0.78952944, 0.5766806...\n19  trieu  [[0.13398384, 0.67783844, 0.4025143, 0.5827554...\n20  trieu  [[0.25546306, 0.65545577, 0.7100667, 0.1687722...\n21      3  [[0.38191593, 0.046359017, 0.7329905, 0.818321...\n22      3  [[0.5472523, 0.376088, 1.0, 0.8826591, 0.74865...\n23      3  [[0.4164685, 0.12068154, 1.0, 0.8424062, 0.574...\n24      7  [[0.26516488, 0.06478908, 0.78317314, 0.902876...\n25      7  [[0.13569242, 0.10206387, 0.98961675, 0.504527...\n26      7  [[0.60501134, 0.0, 0.7887295, 0.31727114, 0.29...\n27      8  [[0.0, 0.018594934, 0.87430686, 0.6522049, 0.5...\n28      8  [[0.0, 0.13446908, 0.8794895, 0.82171535, 0.75...\n29      8  [[0.4414183, 0.026228465, 1.0, 0.901645, 0.751...\n30  nghin  [[1.0, 0.043887105, 0.43412492, 0.0, 0.0, 0.53...\n31  nghin  [[0.93553346, 0.25009856, 0.8215309, 0.0574216...\n32  nghin  [[1.0, 0.0, 0.3534929, 0.0, 0.0, 0.50898826, 0...\n33   linh  [[1.0, 0.0, 0.79147106, 0.0, 0.13048476, 0.537...\n34   linh  [[1.0, 0.27508, 0.57822734, 0.67454135, 0.5158...\n35   linh  [[1.0, 0.056528207, 0.8819843, 0.08947873, 0.1...\n36      5  [[0.0, 0.03741968, 0.6525872, 0.6408816, 0.822...\n37      5  [[1.0, 0.0, 0.70241773, 0.7281648, 1.0, 0.7133...\n38      5  [[0.27942005, 0.2552458, 1.0, 0.9319989, 1.0, ...\n39    mot  [[0.5170626, 0.7703797, 0.3855686, 0.904246, 1...\n40    mot  [[0.5670353, 0.25360432, 0.75120884, 0.9036141...\n41    mot  [[0.86839026, 0.0, 0.6057444, 0.79850304, 0.77...\n42      6  [[0.7647705, 0.18601932, 0.9855847, 0.8357428,...\n43      6  [[0.29235855, 0.31852442, 1.0, 0.83136785, 0.9...\n44      6  [[7.4217474e-05, 0.0, 0.7506352, 0.639519, 0.4...\n45    lam  [[0.89677966, 0.005211666, 0.73729885, 1.0, 0....\n46    lam  [[1.0, 0.0, 0.7906575, 0.8577613, 0.7903976, 0...\n47    lam  [[0.7512401, 0.3266524, 0.88897693, 0.7315185,...\n48      2  [[0.76164263, 0.5427646, 0.98755103, 0.4999418...\n49      2  [[1.0, 0.0, 0.46550006, 0.19200093, 1.0, 0.701...\n50      2  [[0.28650022, 0.0, 0.48586136, 0.67417264, 1.0...\n51     tu  [[0.10128219, 0.0, 0.6483268, 0.62944824, 0.58...\n52     tu  [[0.25127658, 0.9078149, 1.0, 0.49593765, 0.50...\n53     tu  [[0.37921694, 0.33858892, 0.52189624, 0.858330...\n54      0  [[0.37965712, 0.08924126, 0.06595427, 0.0, 0.2...\n55      0  [[0.3159508, 0.07469129, 0.16006581, 0.0, 0.02...\n56      0  [[0.0, 0.40595615, 0.9591907, 0.33280286, 0.89...\n57     m1  [[0.5613897, 0.0, 1.0, 0.540485, 0.7257893, 0....\n58     m1  [[1.0, 0.47780743, 1.0, 0.21320339, 0.44924545...\n59     m1  [[0.5883095, 0.0, 1.0, 0.55291, 0.7622013, 0.5...",
      "text/html": "<div>\n<style scoped>\n    .dataframe tbody tr th:only-of-type {\n        vertical-align: middle;\n    }\n\n    .dataframe tbody tr th {\n        vertical-align: top;\n    }\n\n    .dataframe thead th {\n        text-align: right;\n    }\n</style>\n<table border=\"1\" class=\"dataframe\">\n  <thead>\n    <tr style=\"text-align: right;\">\n      <th></th>\n      <th>label</th>\n      <th>mfcc_features</th>\n    </tr>\n  </thead>\n  <tbody>\n    <tr>\n      <th>0</th>\n      <td>sil</td>\n      <td>[[1.0, 0.25591674, 1.0, 0.0, 0.5374895, 0.0, 0...</td>\n    </tr>\n    <tr>\n      <th>1</th>\n      <td>sil</td>\n      <td>[[1.0, 0.005836276, 1.0, 0.0, 0.18818209, 0.26...</td>\n    </tr>\n    <tr>\n      <th>2</th>\n      <td>sil</td>\n      <td>[[1.0, 0.0, 1.0, 0.0, 0.14333844, 0.0, 1.0, 0....</td>\n    </tr>\n    <tr>\n      <th>3</th>\n      <td>1</td>\n      <td>[[0.008115292, 0.13720374, 0.6464415, 0.0, 0.0...</td>\n    </tr>\n    <tr>\n      <th>4</th>\n      <td>1</td>\n      <td>[[0.08613336, 0.04695834, 0.72694945, 0.607525...</td>\n    </tr>\n    <tr>\n      <th>5</th>\n      <td>1</td>\n      <td>[[0.0, 0.0, 0.0, 0.5741292, 1.0, 0.92259985, 0...</td>\n    </tr>\n    <tr>\n      <th>6</th>\n      <td>tram</td>\n      <td>[[0.092639014, 0.56376374, 1.0, 0.6377285, 0.7...</td>\n    </tr>\n    <tr>\n      <th>7</th>\n      <td>tram</td>\n      <td>[[0.5384278, 0.25761774, 0.8564208, 0.7418925,...</td>\n    </tr>\n    <tr>\n      <th>8</th>\n      <td>tram</td>\n      <td>[[0.0, 0.31076217, 0.4893239, 0.58495325, 0.48...</td>\n    </tr>\n    <tr>\n      <th>9</th>\n      <td>4</td>\n      <td>[[0.0, 0.0, 0.29382217, 0.48106688, 0.50523496...</td>\n    </tr>\n    <tr>\n      <th>10</th>\n      <td>4</td>\n      <td>[[0.9442609, 0.0, 0.50626904, 0.52150154, 0.72...</td>\n    </tr>\n    <tr>\n      <th>11</th>\n      <td>4</td>\n      <td>[[0.6265214, 0.0, 0.11373757, 0.4505542, 0.366...</td>\n    </tr>\n    <tr>\n      <th>12</th>\n      <td>muoi</td>\n      <td>[[1.0, 0.0, 0.69628984, 0.37176186, 0.44515076...</td>\n    </tr>\n    <tr>\n      <th>13</th>\n      <td>muoi</td>\n      <td>[[0.86653006, 0.8513338, 0.56261456, 0.3777704...</td>\n    </tr>\n    <tr>\n      <th>14</th>\n      <td>muoi</td>\n      <td>[[0.7261596, 0.27824205, 1.0, 0.47750998, 0.47...</td>\n    </tr>\n    <tr>\n      <th>15</th>\n      <td>9</td>\n      <td>[[0.05142634, 0.6130245, 0.3723377, 0.24647449...</td>\n    </tr>\n    <tr>\n      <th>16</th>\n      <td>9</td>\n      <td>[[0.20028724, 0.71292347, 0.45115966, 0.385882...</td>\n    </tr>\n    <tr>\n      <th>17</th>\n      <td>9</td>\n      <td>[[0.11002314, 0.40280265, 1.0, 0.0, 0.50503945...</td>\n    </tr>\n    <tr>\n      <th>18</th>\n      <td>trieu</td>\n      <td>[[0.32217762, 0.6055103, 0.78952944, 0.5766806...</td>\n    </tr>\n    <tr>\n      <th>19</th>\n      <td>trieu</td>\n      <td>[[0.13398384, 0.67783844, 0.4025143, 0.5827554...</td>\n    </tr>\n    <tr>\n      <th>20</th>\n      <td>trieu</td>\n      <td>[[0.25546306, 0.65545577, 0.7100667, 0.1687722...</td>\n    </tr>\n    <tr>\n      <th>21</th>\n      <td>3</td>\n      <td>[[0.38191593, 0.046359017, 0.7329905, 0.818321...</td>\n    </tr>\n    <tr>\n      <th>22</th>\n      <td>3</td>\n      <td>[[0.5472523, 0.376088, 1.0, 0.8826591, 0.74865...</td>\n    </tr>\n    <tr>\n      <th>23</th>\n      <td>3</td>\n      <td>[[0.4164685, 0.12068154, 1.0, 0.8424062, 0.574...</td>\n    </tr>\n    <tr>\n      <th>24</th>\n      <td>7</td>\n      <td>[[0.26516488, 0.06478908, 0.78317314, 0.902876...</td>\n    </tr>\n    <tr>\n      <th>25</th>\n      <td>7</td>\n      <td>[[0.13569242, 0.10206387, 0.98961675, 0.504527...</td>\n    </tr>\n    <tr>\n      <th>26</th>\n      <td>7</td>\n      <td>[[0.60501134, 0.0, 0.7887295, 0.31727114, 0.29...</td>\n    </tr>\n    <tr>\n      <th>27</th>\n      <td>8</td>\n      <td>[[0.0, 0.018594934, 0.87430686, 0.6522049, 0.5...</td>\n    </tr>\n    <tr>\n      <th>28</th>\n      <td>8</td>\n      <td>[[0.0, 0.13446908, 0.8794895, 0.82171535, 0.75...</td>\n    </tr>\n    <tr>\n      <th>29</th>\n      <td>8</td>\n      <td>[[0.4414183, 0.026228465, 1.0, 0.901645, 0.751...</td>\n    </tr>\n    <tr>\n      <th>30</th>\n      <td>nghin</td>\n      <td>[[1.0, 0.043887105, 0.43412492, 0.0, 0.0, 0.53...</td>\n    </tr>\n    <tr>\n      <th>31</th>\n      <td>nghin</td>\n      <td>[[0.93553346, 0.25009856, 0.8215309, 0.0574216...</td>\n    </tr>\n    <tr>\n      <th>32</th>\n      <td>nghin</td>\n      <td>[[1.0, 0.0, 0.3534929, 0.0, 0.0, 0.50898826, 0...</td>\n    </tr>\n    <tr>\n      <th>33</th>\n      <td>linh</td>\n      <td>[[1.0, 0.0, 0.79147106, 0.0, 0.13048476, 0.537...</td>\n    </tr>\n    <tr>\n      <th>34</th>\n      <td>linh</td>\n      <td>[[1.0, 0.27508, 0.57822734, 0.67454135, 0.5158...</td>\n    </tr>\n    <tr>\n      <th>35</th>\n      <td>linh</td>\n      <td>[[1.0, 0.056528207, 0.8819843, 0.08947873, 0.1...</td>\n    </tr>\n    <tr>\n      <th>36</th>\n      <td>5</td>\n      <td>[[0.0, 0.03741968, 0.6525872, 0.6408816, 0.822...</td>\n    </tr>\n    <tr>\n      <th>37</th>\n      <td>5</td>\n      <td>[[1.0, 0.0, 0.70241773, 0.7281648, 1.0, 0.7133...</td>\n    </tr>\n    <tr>\n      <th>38</th>\n      <td>5</td>\n      <td>[[0.27942005, 0.2552458, 1.0, 0.9319989, 1.0, ...</td>\n    </tr>\n    <tr>\n      <th>39</th>\n      <td>mot</td>\n      <td>[[0.5170626, 0.7703797, 0.3855686, 0.904246, 1...</td>\n    </tr>\n    <tr>\n      <th>40</th>\n      <td>mot</td>\n      <td>[[0.5670353, 0.25360432, 0.75120884, 0.9036141...</td>\n    </tr>\n    <tr>\n      <th>41</th>\n      <td>mot</td>\n      <td>[[0.86839026, 0.0, 0.6057444, 0.79850304, 0.77...</td>\n    </tr>\n    <tr>\n      <th>42</th>\n      <td>6</td>\n      <td>[[0.7647705, 0.18601932, 0.9855847, 0.8357428,...</td>\n    </tr>\n    <tr>\n      <th>43</th>\n      <td>6</td>\n      <td>[[0.29235855, 0.31852442, 1.0, 0.83136785, 0.9...</td>\n    </tr>\n    <tr>\n      <th>44</th>\n      <td>6</td>\n      <td>[[7.4217474e-05, 0.0, 0.7506352, 0.639519, 0.4...</td>\n    </tr>\n    <tr>\n      <th>45</th>\n      <td>lam</td>\n      <td>[[0.89677966, 0.005211666, 0.73729885, 1.0, 0....</td>\n    </tr>\n    <tr>\n      <th>46</th>\n      <td>lam</td>\n      <td>[[1.0, 0.0, 0.7906575, 0.8577613, 0.7903976, 0...</td>\n    </tr>\n    <tr>\n      <th>47</th>\n      <td>lam</td>\n      <td>[[0.7512401, 0.3266524, 0.88897693, 0.7315185,...</td>\n    </tr>\n    <tr>\n      <th>48</th>\n      <td>2</td>\n      <td>[[0.76164263, 0.5427646, 0.98755103, 0.4999418...</td>\n    </tr>\n    <tr>\n      <th>49</th>\n      <td>2</td>\n      <td>[[1.0, 0.0, 0.46550006, 0.19200093, 1.0, 0.701...</td>\n    </tr>\n    <tr>\n      <th>50</th>\n      <td>2</td>\n      <td>[[0.28650022, 0.0, 0.48586136, 0.67417264, 1.0...</td>\n    </tr>\n    <tr>\n      <th>51</th>\n      <td>tu</td>\n      <td>[[0.10128219, 0.0, 0.6483268, 0.62944824, 0.58...</td>\n    </tr>\n    <tr>\n      <th>52</th>\n      <td>tu</td>\n      <td>[[0.25127658, 0.9078149, 1.0, 0.49593765, 0.50...</td>\n    </tr>\n    <tr>\n      <th>53</th>\n      <td>tu</td>\n      <td>[[0.37921694, 0.33858892, 0.52189624, 0.858330...</td>\n    </tr>\n    <tr>\n      <th>54</th>\n      <td>0</td>\n      <td>[[0.37965712, 0.08924126, 0.06595427, 0.0, 0.2...</td>\n    </tr>\n    <tr>\n      <th>55</th>\n      <td>0</td>\n      <td>[[0.3159508, 0.07469129, 0.16006581, 0.0, 0.02...</td>\n    </tr>\n    <tr>\n      <th>56</th>\n      <td>0</td>\n      <td>[[0.0, 0.40595615, 0.9591907, 0.33280286, 0.89...</td>\n    </tr>\n    <tr>\n      <th>57</th>\n      <td>m1</td>\n      <td>[[0.5613897, 0.0, 1.0, 0.540485, 0.7257893, 0....</td>\n    </tr>\n    <tr>\n      <th>58</th>\n      <td>m1</td>\n      <td>[[1.0, 0.47780743, 1.0, 0.21320339, 0.44924545...</td>\n    </tr>\n    <tr>\n      <th>59</th>\n      <td>m1</td>\n      <td>[[0.5883095, 0.0, 1.0, 0.55291, 0.7622013, 0.5...</td>\n    </tr>\n  </tbody>\n</table>\n</div>"
     },
     "execution_count": 5,
     "metadata": {},
     "output_type": "execute_result"
    }
   ],
   "source": [
    "template_df"
   ]
  },
  {
   "cell_type": "code",
   "execution_count": 6,
   "metadata": {
    "collapsed": false,
    "jupyter": {
     "outputs_hidden": false
    },
    "pycharm": {
     "name": "#%%\n"
    }
   },
   "outputs": [],
   "source": [
    "# new_template_df = dtw_recognition.reduce_models(template_df, \"../data/syllables.csv\")"
   ]
  },
  {
   "cell_type": "code",
   "execution_count": 7,
   "metadata": {
    "collapsed": false,
    "jupyter": {
     "outputs_hidden": false
    },
    "pycharm": {
     "name": "#%%\n"
    }
   },
   "outputs": [],
   "source": [
    "choice_indexes = np.random.choice(len(df), 100, replace=False)\n",
    "test_mfcc_features = list(df.loc[choice_indexes, \"mfcc_features\"])"
   ]
  },
  {
   "cell_type": "code",
   "execution_count": 8,
   "metadata": {
    "collapsed": false,
    "jupyter": {
     "outputs_hidden": false
    },
    "pycharm": {
     "name": "#%%\n"
    }
   },
   "outputs": [
    {
     "data": {
      "text/plain": "     label                                      mfcc_features\n1803  muoi  [[0.45470503, 0.0, 1.0, 0.25042507, 0.04882723...\n1855     7  [[0.02119631, 0.07551253, 0.62779695, 0.493811...\n206      3  [[0.5425608, 0.056398604, 1.0, 1.0, 0.83498853...\n1723   mot  [[0.9057198, 0.0, 0.6648663, 0.8217759, 0.9277...\n1677   sil  [[1.0, 0.0, 1.0, 0.6383448, 1.0, 0.69336957, 1...\n...    ...                                                ...\n1742  muoi  [[1.0, 0.0, 1.0, 0.2877752, 0.19795953, 1.0, 1...\n464      5  [[0.20449713, 0.9357886, 0.82763886, 0.9766568...\n23    tram  [[0.5111927, 0.4801271, 0.6735646, 0.25744382,...\n1930     8  [[0.0, 0.11004019, 1.0, 1.0, 0.92647606, 0.380...\n1117  tram  [[0.27947903, 0.48105875, 1.0, 0.64237374, 0.9...\n\n[100 rows x 2 columns]",
      "text/html": "<div>\n<style scoped>\n    .dataframe tbody tr th:only-of-type {\n        vertical-align: middle;\n    }\n\n    .dataframe tbody tr th {\n        vertical-align: top;\n    }\n\n    .dataframe thead th {\n        text-align: right;\n    }\n</style>\n<table border=\"1\" class=\"dataframe\">\n  <thead>\n    <tr style=\"text-align: right;\">\n      <th></th>\n      <th>label</th>\n      <th>mfcc_features</th>\n    </tr>\n  </thead>\n  <tbody>\n    <tr>\n      <th>1803</th>\n      <td>muoi</td>\n      <td>[[0.45470503, 0.0, 1.0, 0.25042507, 0.04882723...</td>\n    </tr>\n    <tr>\n      <th>1855</th>\n      <td>7</td>\n      <td>[[0.02119631, 0.07551253, 0.62779695, 0.493811...</td>\n    </tr>\n    <tr>\n      <th>206</th>\n      <td>3</td>\n      <td>[[0.5425608, 0.056398604, 1.0, 1.0, 0.83498853...</td>\n    </tr>\n    <tr>\n      <th>1723</th>\n      <td>mot</td>\n      <td>[[0.9057198, 0.0, 0.6648663, 0.8217759, 0.9277...</td>\n    </tr>\n    <tr>\n      <th>1677</th>\n      <td>sil</td>\n      <td>[[1.0, 0.0, 1.0, 0.6383448, 1.0, 0.69336957, 1...</td>\n    </tr>\n    <tr>\n      <th>...</th>\n      <td>...</td>\n      <td>...</td>\n    </tr>\n    <tr>\n      <th>1742</th>\n      <td>muoi</td>\n      <td>[[1.0, 0.0, 1.0, 0.2877752, 0.19795953, 1.0, 1...</td>\n    </tr>\n    <tr>\n      <th>464</th>\n      <td>5</td>\n      <td>[[0.20449713, 0.9357886, 0.82763886, 0.9766568...</td>\n    </tr>\n    <tr>\n      <th>23</th>\n      <td>tram</td>\n      <td>[[0.5111927, 0.4801271, 0.6735646, 0.25744382,...</td>\n    </tr>\n    <tr>\n      <th>1930</th>\n      <td>8</td>\n      <td>[[0.0, 0.11004019, 1.0, 1.0, 0.92647606, 0.380...</td>\n    </tr>\n    <tr>\n      <th>1117</th>\n      <td>tram</td>\n      <td>[[0.27947903, 0.48105875, 1.0, 0.64237374, 0.9...</td>\n    </tr>\n  </tbody>\n</table>\n<p>100 rows × 2 columns</p>\n</div>"
     },
     "execution_count": 8,
     "metadata": {},
     "output_type": "execute_result"
    }
   ],
   "source": [
    "df.iloc[choice_indexes]"
   ]
  },
  {
   "cell_type": "code",
   "execution_count": 9,
   "metadata": {
    "collapsed": false,
    "jupyter": {
     "outputs_hidden": false
    },
    "pycharm": {
     "name": "#%%\n"
    }
   },
   "outputs": [],
   "source": [
    "preds = dtw_recognition.predict(template_df, test_mfcc_features)"
   ]
  },
  {
   "cell_type": "code",
   "execution_count": 10,
   "metadata": {
    "collapsed": false,
    "jupyter": {
     "outputs_hidden": false
    },
    "pycharm": {
     "name": "#%%\n"
    }
   },
   "outputs": [
    {
     "name": "stdout",
     "output_type": "stream",
     "text": [
      "Accuracy: 0.83\n"
     ]
    }
   ],
   "source": [
    "print(f'Accuracy: {np.sum(preds == df.loc[choice_indexes, \"label\"])/len(preds)}')"
   ]
  },
  {
   "cell_type": "markdown",
   "source": [
    "# HMM"
   ],
   "metadata": {
    "collapsed": false
   }
  },
  {
   "cell_type": "code",
   "execution_count": null,
   "outputs": [],
   "source": [],
   "metadata": {
    "collapsed": false,
    "pycharm": {
     "name": "#%%\n"
    }
   }
  }
 ],
 "metadata": {
  "kernelspec": {
   "display_name": "PyCharm (gan-mnist)",
   "language": "python",
   "name": "pycharm-194c7a3c"
  },
  "language_info": {
   "codemirror_mode": {
    "name": "ipython",
    "version": 3
   },
   "file_extension": ".py",
   "mimetype": "text/x-python",
   "name": "python",
   "nbconvert_exporter": "python",
   "pygments_lexer": "ipython3",
   "version": "3.9.7"
  }
 },
 "nbformat": 4,
 "nbformat_minor": 4
}